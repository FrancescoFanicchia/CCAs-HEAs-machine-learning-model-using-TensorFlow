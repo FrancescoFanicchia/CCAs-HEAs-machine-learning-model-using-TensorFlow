{
 "cells": [
  {
   "cell_type": "code",
   "execution_count": 4,
   "metadata": {
    "id": "d0CJseto0LYu"
   },
   "outputs": [],
   "source": [
    "import matplotlib.pyplot as plt\n",
    "import numpy as np\n",
    "import pandas as pd\n",
    "import seaborn as sns\n",
    "import tensorflow as tf\n",
    "\n",
    "from tensorflow import keras\n",
    "from tensorflow.keras import layers\n",
    "from tensorflow.keras import regularizers\n",
    "\n",
    "from sklearn.preprocessing import StandardScaler\n",
    "from sklearn.model_selection import train_test_split\n",
    "\n",
    "\n",
    "from pickle import dump"
   ]
  },
  {
   "cell_type": "code",
   "execution_count": 5,
   "metadata": {
    "id": "HGU71w0e0LYv"
   },
   "outputs": [],
   "source": [
    "import tensorflow_docs as tfdocs\n",
    "import tensorflow_docs.plots\n",
    "import tensorflow_docs.modeling"
   ]
  },
  {
   "cell_type": "code",
   "execution_count": 6,
   "metadata": {
    "colab": {
     "base_uri": "https://localhost:8080/",
     "height": 585
    },
    "id": "_jnUeDBd0LYv",
    "outputId": "49bc70df-1db8-4ff0-e827-ededcf2490f9"
   },
   "outputs": [
    {
     "data": {
      "text/html": [
       "<div>\n",
       "<style scoped>\n",
       "    .dataframe tbody tr th:only-of-type {\n",
       "        vertical-align: middle;\n",
       "    }\n",
       "\n",
       "    .dataframe tbody tr th {\n",
       "        vertical-align: top;\n",
       "    }\n",
       "\n",
       "    .dataframe thead th {\n",
       "        text-align: right;\n",
       "    }\n",
       "</style>\n",
       "<table border=\"1\" class=\"dataframe\">\n",
       "  <thead>\n",
       "    <tr style=\"text-align: right;\">\n",
       "      <th></th>\n",
       "      <th>Unnamed: 0</th>\n",
       "      <th>Composition</th>\n",
       "      <th>VEC</th>\n",
       "      <th>Electronegativity_Difference</th>\n",
       "      <th>Atomic_Radius_Diff</th>\n",
       "      <th>Mixing_Enthalpy</th>\n",
       "      <th>Mixing_Entropy</th>\n",
       "      <th>E/A</th>\n",
       "      <th>EWF</th>\n",
       "      <th>Mod_Mismatch</th>\n",
       "      <th>...</th>\n",
       "      <th>Cu</th>\n",
       "      <th>Zn</th>\n",
       "      <th>Zr</th>\n",
       "      <th>Nb</th>\n",
       "      <th>Mo</th>\n",
       "      <th>Sn</th>\n",
       "      <th>Hf</th>\n",
       "      <th>Ta</th>\n",
       "      <th>W</th>\n",
       "      <th>HV</th>\n",
       "    </tr>\n",
       "  </thead>\n",
       "  <tbody>\n",
       "    <tr>\n",
       "      <th>0</th>\n",
       "      <td>0</td>\n",
       "      <td>Al0.024 Co0.244 Cr0.244 Fe0.244 Ni0.244</td>\n",
       "      <td>8.124000</td>\n",
       "      <td>0.100790</td>\n",
       "      <td>2.285452</td>\n",
       "      <td>-5.024448</td>\n",
       "      <td>12.191045</td>\n",
       "      <td>1.087280</td>\n",
       "      <td>11858.093680</td>\n",
       "      <td>-0.026248</td>\n",
       "      <td>...</td>\n",
       "      <td>0.000000</td>\n",
       "      <td>0.0</td>\n",
       "      <td>0.0</td>\n",
       "      <td>0.0</td>\n",
       "      <td>0.0</td>\n",
       "      <td>0.0</td>\n",
       "      <td>0.0</td>\n",
       "      <td>0.0</td>\n",
       "      <td>0.0</td>\n",
       "      <td>118.0</td>\n",
       "    </tr>\n",
       "    <tr>\n",
       "      <th>1</th>\n",
       "      <td>1</td>\n",
       "      <td>Al0.038 Cr0.192 Cu0.192 Fe0.192 Ni0.385</td>\n",
       "      <td>8.772773</td>\n",
       "      <td>0.103890</td>\n",
       "      <td>2.923514</td>\n",
       "      <td>0.131319</td>\n",
       "      <td>11.995661</td>\n",
       "      <td>1.132352</td>\n",
       "      <td>11793.295412</td>\n",
       "      <td>-0.046508</td>\n",
       "      <td>...</td>\n",
       "      <td>0.192192</td>\n",
       "      <td>0.0</td>\n",
       "      <td>0.0</td>\n",
       "      <td>0.0</td>\n",
       "      <td>0.0</td>\n",
       "      <td>0.0</td>\n",
       "      <td>0.0</td>\n",
       "      <td>0.0</td>\n",
       "      <td>0.0</td>\n",
       "      <td>162.0</td>\n",
       "    </tr>\n",
       "    <tr>\n",
       "      <th>2</th>\n",
       "      <td>2</td>\n",
       "      <td>Al0.053 Co0.211 Cr0.211 Fe0.263 Ni0.263</td>\n",
       "      <td>8.049950</td>\n",
       "      <td>0.103002</td>\n",
       "      <td>3.321519</td>\n",
       "      <td>-6.387830</td>\n",
       "      <td>12.590479</td>\n",
       "      <td>1.151059</td>\n",
       "      <td>11698.169776</td>\n",
       "      <td>-0.034465</td>\n",
       "      <td>...</td>\n",
       "      <td>0.000000</td>\n",
       "      <td>0.0</td>\n",
       "      <td>0.0</td>\n",
       "      <td>0.0</td>\n",
       "      <td>0.0</td>\n",
       "      <td>0.0</td>\n",
       "      <td>0.0</td>\n",
       "      <td>0.0</td>\n",
       "      <td>0.0</td>\n",
       "      <td>168.0</td>\n",
       "    </tr>\n",
       "    <tr>\n",
       "      <th>3</th>\n",
       "      <td>3</td>\n",
       "      <td>Al0.057 Co0.189 Cr0.189 Cu0.189 Fe0.189 Ni0.189</td>\n",
       "      <td>8.470060</td>\n",
       "      <td>0.103733</td>\n",
       "      <td>3.429843</td>\n",
       "      <td>0.142314</td>\n",
       "      <td>14.435532</td>\n",
       "      <td>1.144521</td>\n",
       "      <td>11237.013134</td>\n",
       "      <td>-0.052196</td>\n",
       "      <td>...</td>\n",
       "      <td>0.188623</td>\n",
       "      <td>0.0</td>\n",
       "      <td>0.0</td>\n",
       "      <td>0.0</td>\n",
       "      <td>0.0</td>\n",
       "      <td>0.0</td>\n",
       "      <td>0.0</td>\n",
       "      <td>0.0</td>\n",
       "      <td>0.0</td>\n",
       "      <td>185.0</td>\n",
       "    </tr>\n",
       "    <tr>\n",
       "      <th>4</th>\n",
       "      <td>4</td>\n",
       "      <td>Al0.057 Cr0.189 Cu0.189 Fe0.189 Ni0.377</td>\n",
       "      <td>8.657343</td>\n",
       "      <td>0.107455</td>\n",
       "      <td>3.458269</td>\n",
       "      <td>-0.833233</td>\n",
       "      <td>12.265556</td>\n",
       "      <td>1.169051</td>\n",
       "      <td>11640.451496</td>\n",
       "      <td>-0.052066</td>\n",
       "      <td>...</td>\n",
       "      <td>0.188811</td>\n",
       "      <td>0.0</td>\n",
       "      <td>0.0</td>\n",
       "      <td>0.0</td>\n",
       "      <td>0.0</td>\n",
       "      <td>0.0</td>\n",
       "      <td>0.0</td>\n",
       "      <td>0.0</td>\n",
       "      <td>0.0</td>\n",
       "      <td>170.0</td>\n",
       "    </tr>\n",
       "  </tbody>\n",
       "</table>\n",
       "<p>5 rows × 41 columns</p>\n",
       "</div>"
      ],
      "text/plain": [
       "   Unnamed: 0                                       Composition       VEC  \\\n",
       "0           0          Al0.024 Co0.244 Cr0.244 Fe0.244 Ni0.244   8.124000   \n",
       "1           1          Al0.038 Cr0.192 Cu0.192 Fe0.192 Ni0.385   8.772773   \n",
       "2           2          Al0.053 Co0.211 Cr0.211 Fe0.263 Ni0.263   8.049950   \n",
       "3           3  Al0.057 Co0.189 Cr0.189 Cu0.189 Fe0.189 Ni0.189   8.470060   \n",
       "4           4          Al0.057 Cr0.189 Cu0.189 Fe0.189 Ni0.377   8.657343   \n",
       "\n",
       "   Electronegativity_Difference  Atomic_Radius_Diff  Mixing_Enthalpy  \\\n",
       "0                      0.100790            2.285452        -5.024448   \n",
       "1                      0.103890            2.923514         0.131319   \n",
       "2                      0.103002            3.321519        -6.387830   \n",
       "3                      0.103733            3.429843         0.142314   \n",
       "4                      0.107455            3.458269        -0.833233   \n",
       "\n",
       "   Mixing_Entropy       E/A           EWF  Mod_Mismatch  ...        Cu   Zn  \\\n",
       "0       12.191045  1.087280  11858.093680     -0.026248  ...  0.000000  0.0   \n",
       "1       11.995661  1.132352  11793.295412     -0.046508  ...  0.192192  0.0   \n",
       "2       12.590479  1.151059  11698.169776     -0.034465  ...  0.000000  0.0   \n",
       "3       14.435532  1.144521  11237.013134     -0.052196  ...  0.188623  0.0   \n",
       "4       12.265556  1.169051  11640.451496     -0.052066  ...  0.188811  0.0   \n",
       "\n",
       "    Zr   Nb   Mo   Sn   Hf   Ta    W     HV  \n",
       "0  0.0  0.0  0.0  0.0  0.0  0.0  0.0  118.0  \n",
       "1  0.0  0.0  0.0  0.0  0.0  0.0  0.0  162.0  \n",
       "2  0.0  0.0  0.0  0.0  0.0  0.0  0.0  168.0  \n",
       "3  0.0  0.0  0.0  0.0  0.0  0.0  0.0  185.0  \n",
       "4  0.0  0.0  0.0  0.0  0.0  0.0  0.0  170.0  \n",
       "\n",
       "[5 rows x 41 columns]"
      ]
     },
     "execution_count": 6,
     "metadata": {},
     "output_type": "execute_result"
    }
   ],
   "source": [
    "# load data\n",
    "dataset = pd.read_csv('database_for_tensorflow.csv')\n",
    "dataset.head()"
   ]
  },
  {
   "cell_type": "code",
   "execution_count": 7,
   "metadata": {
    "colab": {
     "base_uri": "https://localhost:8080/"
    },
    "id": "S9TleC7G0LYx",
    "outputId": "69c0c31b-4c2c-482e-b428-bf7f8dd1c03d"
   },
   "outputs": [
    {
     "name": "stdout",
     "output_type": "stream",
     "text": [
      "<class 'pandas.core.frame.DataFrame'>\n",
      "RangeIndex: 442 entries, 0 to 441\n",
      "Data columns (total 41 columns):\n",
      " #   Column                        Non-Null Count  Dtype  \n",
      "---  ------                        --------------  -----  \n",
      " 0   Unnamed: 0                    442 non-null    int64  \n",
      " 1   Composition                   442 non-null    object \n",
      " 2   VEC                           442 non-null    float64\n",
      " 3   Electronegativity_Difference  442 non-null    float64\n",
      " 4   Atomic_Radius_Diff            442 non-null    float64\n",
      " 5   Mixing_Enthalpy               442 non-null    float64\n",
      " 6   Mixing_Entropy                442 non-null    float64\n",
      " 7   E/A                           441 non-null    float64\n",
      " 8   EWF                           442 non-null    float64\n",
      " 9   Mod_Mismatch                  437 non-null    float64\n",
      " 10  DeltaG                        437 non-null    float64\n",
      " 11  ShearModG                     437 non-null    float64\n",
      " 12  Tm                            442 non-null    float64\n",
      " 13  Ec                            442 non-null    float64\n",
      " 14  Cond__AC                      442 non-null    int64  \n",
      " 15  Cond__AM                      442 non-null    int64  \n",
      " 16  Cond__HM                      442 non-null    int64  \n",
      " 17  Cond__PM                      442 non-null    int64  \n",
      " 18  Cond__WR                      442 non-null    int64  \n",
      " 19  Li                            442 non-null    float64\n",
      " 20  Mg                            442 non-null    float64\n",
      " 21  Al                            442 non-null    float64\n",
      " 22  Si                            442 non-null    float64\n",
      " 23  Sc                            442 non-null    float64\n",
      " 24  Ti                            442 non-null    float64\n",
      " 25  V                             442 non-null    float64\n",
      " 26  Cr                            442 non-null    float64\n",
      " 27  Mn                            442 non-null    float64\n",
      " 28  Fe                            442 non-null    float64\n",
      " 29  Ni                            442 non-null    float64\n",
      " 30  Co                            442 non-null    float64\n",
      " 31  Cu                            442 non-null    float64\n",
      " 32  Zn                            442 non-null    float64\n",
      " 33  Zr                            442 non-null    float64\n",
      " 34  Nb                            442 non-null    float64\n",
      " 35  Mo                            442 non-null    float64\n",
      " 36  Sn                            442 non-null    float64\n",
      " 37  Hf                            442 non-null    float64\n",
      " 38  Ta                            442 non-null    float64\n",
      " 39  W                             442 non-null    float64\n",
      " 40  HV                            442 non-null    float64\n",
      "dtypes: float64(34), int64(6), object(1)\n",
      "memory usage: 141.7+ KB\n"
     ]
    }
   ],
   "source": [
    "dataset.info()"
   ]
  },
  {
   "cell_type": "code",
   "execution_count": 8,
   "metadata": {
    "colab": {
     "base_uri": "https://localhost:8080/"
    },
    "id": "jNemtma50LYx",
    "outputId": "cf370554-50fd-4c01-db90-455dad06156b"
   },
   "outputs": [
    {
     "data": {
      "text/plain": [
       "VEC                             0\n",
       "Electronegativity_Difference    0\n",
       "Atomic_Radius_Diff              0\n",
       "Mixing_Enthalpy                 0\n",
       "Mixing_Entropy                  0\n",
       "E/A                             1\n",
       "EWF                             0\n",
       "Mod_Mismatch                    5\n",
       "DeltaG                          5\n",
       "ShearModG                       5\n",
       "Tm                              0\n",
       "Ec                              0\n",
       "Cond__AC                        0\n",
       "Cond__AM                        0\n",
       "Cond__HM                        0\n",
       "Cond__PM                        0\n",
       "Cond__WR                        0\n",
       "Li                              0\n",
       "Mg                              0\n",
       "Al                              0\n",
       "Si                              0\n",
       "Sc                              0\n",
       "Ti                              0\n",
       "V                               0\n",
       "Cr                              0\n",
       "Mn                              0\n",
       "Fe                              0\n",
       "Ni                              0\n",
       "Co                              0\n",
       "Cu                              0\n",
       "Zn                              0\n",
       "Zr                              0\n",
       "Nb                              0\n",
       "Mo                              0\n",
       "Sn                              0\n",
       "Hf                              0\n",
       "Ta                              0\n",
       "W                               0\n",
       "HV                              0\n",
       "dtype: int64"
      ]
     },
     "execution_count": 8,
     "metadata": {},
     "output_type": "execute_result"
    }
   ],
   "source": [
    "# Remove unnecessary columns\n",
    "\n",
    "dataset = dataset.drop('Composition', axis=1)\n",
    "dataset = dataset.drop('Unnamed: 0', axis=1)\n",
    "\n",
    "\n",
    "dataset.isna().sum()"
   ]
  },
  {
   "cell_type": "code",
   "execution_count": 9,
   "metadata": {
    "id": "app8roqS0LYx"
   },
   "outputs": [],
   "source": [
    "# Remove rows with missing values\n",
    "dataset = dataset.dropna()"
   ]
  },
  {
   "cell_type": "code",
   "execution_count": 10,
   "metadata": {
    "colab": {
     "base_uri": "https://localhost:8080/",
     "height": 215
    },
    "id": "8-LqrzZM0LYy",
    "outputId": "b70c10de-484e-415a-a621-eba03652625f"
   },
   "outputs": [
    {
     "data": {
      "text/html": [
       "<div>\n",
       "<style scoped>\n",
       "    .dataframe tbody tr th:only-of-type {\n",
       "        vertical-align: middle;\n",
       "    }\n",
       "\n",
       "    .dataframe tbody tr th {\n",
       "        vertical-align: top;\n",
       "    }\n",
       "\n",
       "    .dataframe thead th {\n",
       "        text-align: right;\n",
       "    }\n",
       "</style>\n",
       "<table border=\"1\" class=\"dataframe\">\n",
       "  <thead>\n",
       "    <tr style=\"text-align: right;\">\n",
       "      <th></th>\n",
       "      <th>VEC</th>\n",
       "      <th>Electronegativity_Difference</th>\n",
       "      <th>Atomic_Radius_Diff</th>\n",
       "      <th>Mixing_Enthalpy</th>\n",
       "      <th>Mixing_Entropy</th>\n",
       "      <th>E/A</th>\n",
       "      <th>EWF</th>\n",
       "      <th>Mod_Mismatch</th>\n",
       "      <th>DeltaG</th>\n",
       "      <th>ShearModG</th>\n",
       "      <th>...</th>\n",
       "      <th>Cu</th>\n",
       "      <th>Zn</th>\n",
       "      <th>Zr</th>\n",
       "      <th>Nb</th>\n",
       "      <th>Mo</th>\n",
       "      <th>Sn</th>\n",
       "      <th>Hf</th>\n",
       "      <th>Ta</th>\n",
       "      <th>W</th>\n",
       "      <th>HV</th>\n",
       "    </tr>\n",
       "  </thead>\n",
       "  <tbody>\n",
       "    <tr>\n",
       "      <th>437</th>\n",
       "      <td>4.600000</td>\n",
       "      <td>0.112889</td>\n",
       "      <td>7.480508</td>\n",
       "      <td>-1.280000</td>\n",
       "      <td>11.076352</td>\n",
       "      <td>1.1500</td>\n",
       "      <td>5943.054538</td>\n",
       "      <td>-0.008866</td>\n",
       "      <td>0.017262</td>\n",
       "      <td>41.80</td>\n",
       "      <td>...</td>\n",
       "      <td>0.00</td>\n",
       "      <td>0.0</td>\n",
       "      <td>0.200000</td>\n",
       "      <td>0.200000</td>\n",
       "      <td>0.0</td>\n",
       "      <td>0.0</td>\n",
       "      <td>0.000000</td>\n",
       "      <td>0.000000</td>\n",
       "      <td>0.0</td>\n",
       "      <td>304.0</td>\n",
       "    </tr>\n",
       "    <tr>\n",
       "      <th>438</th>\n",
       "      <td>4.500000</td>\n",
       "      <td>0.117154</td>\n",
       "      <td>7.048398</td>\n",
       "      <td>-0.250000</td>\n",
       "      <td>11.526292</td>\n",
       "      <td>1.2125</td>\n",
       "      <td>5851.485962</td>\n",
       "      <td>-0.008586</td>\n",
       "      <td>0.017833</td>\n",
       "      <td>40.50</td>\n",
       "      <td>...</td>\n",
       "      <td>0.00</td>\n",
       "      <td>0.0</td>\n",
       "      <td>0.250000</td>\n",
       "      <td>0.250000</td>\n",
       "      <td>0.0</td>\n",
       "      <td>0.0</td>\n",
       "      <td>0.000000</td>\n",
       "      <td>0.000000</td>\n",
       "      <td>0.0</td>\n",
       "      <td>335.0</td>\n",
       "    </tr>\n",
       "    <tr>\n",
       "      <th>439</th>\n",
       "      <td>8.940000</td>\n",
       "      <td>0.088188</td>\n",
       "      <td>2.632617</td>\n",
       "      <td>-1.670400</td>\n",
       "      <td>13.487136</td>\n",
       "      <td>1.0942</td>\n",
       "      <td>12193.944527</td>\n",
       "      <td>-0.025792</td>\n",
       "      <td>0.047403</td>\n",
       "      <td>68.06</td>\n",
       "      <td>...</td>\n",
       "      <td>0.18</td>\n",
       "      <td>0.0</td>\n",
       "      <td>0.000000</td>\n",
       "      <td>0.000000</td>\n",
       "      <td>0.0</td>\n",
       "      <td>0.0</td>\n",
       "      <td>0.000000</td>\n",
       "      <td>0.000000</td>\n",
       "      <td>0.0</td>\n",
       "      <td>541.0</td>\n",
       "    </tr>\n",
       "    <tr>\n",
       "      <th>440</th>\n",
       "      <td>6.800000</td>\n",
       "      <td>0.150013</td>\n",
       "      <td>7.461999</td>\n",
       "      <td>-26.400000</td>\n",
       "      <td>13.381611</td>\n",
       "      <td>1.4780</td>\n",
       "      <td>10135.337998</td>\n",
       "      <td>-0.065543</td>\n",
       "      <td>0.129356</td>\n",
       "      <td>60.60</td>\n",
       "      <td>...</td>\n",
       "      <td>0.00</td>\n",
       "      <td>0.0</td>\n",
       "      <td>0.000000</td>\n",
       "      <td>0.000000</td>\n",
       "      <td>0.0</td>\n",
       "      <td>0.0</td>\n",
       "      <td>0.000000</td>\n",
       "      <td>0.000000</td>\n",
       "      <td>0.0</td>\n",
       "      <td>816.0</td>\n",
       "    </tr>\n",
       "    <tr>\n",
       "      <th>441</th>\n",
       "      <td>4.166667</td>\n",
       "      <td>0.122610</td>\n",
       "      <td>4.902773</td>\n",
       "      <td>-14.777778</td>\n",
       "      <td>14.897516</td>\n",
       "      <td>1.7150</td>\n",
       "      <td>5372.454845</td>\n",
       "      <td>-0.054108</td>\n",
       "      <td>0.125625</td>\n",
       "      <td>40.00</td>\n",
       "      <td>...</td>\n",
       "      <td>0.00</td>\n",
       "      <td>0.0</td>\n",
       "      <td>0.166667</td>\n",
       "      <td>0.166667</td>\n",
       "      <td>0.0</td>\n",
       "      <td>0.0</td>\n",
       "      <td>0.166667</td>\n",
       "      <td>0.166667</td>\n",
       "      <td>0.0</td>\n",
       "      <td>441.0</td>\n",
       "    </tr>\n",
       "  </tbody>\n",
       "</table>\n",
       "<p>5 rows × 39 columns</p>\n",
       "</div>"
      ],
      "text/plain": [
       "          VEC  Electronegativity_Difference  Atomic_Radius_Diff  \\\n",
       "437  4.600000                      0.112889            7.480508   \n",
       "438  4.500000                      0.117154            7.048398   \n",
       "439  8.940000                      0.088188            2.632617   \n",
       "440  6.800000                      0.150013            7.461999   \n",
       "441  4.166667                      0.122610            4.902773   \n",
       "\n",
       "     Mixing_Enthalpy  Mixing_Entropy     E/A           EWF  Mod_Mismatch  \\\n",
       "437        -1.280000       11.076352  1.1500   5943.054538     -0.008866   \n",
       "438        -0.250000       11.526292  1.2125   5851.485962     -0.008586   \n",
       "439        -1.670400       13.487136  1.0942  12193.944527     -0.025792   \n",
       "440       -26.400000       13.381611  1.4780  10135.337998     -0.065543   \n",
       "441       -14.777778       14.897516  1.7150   5372.454845     -0.054108   \n",
       "\n",
       "       DeltaG  ShearModG  ...    Cu   Zn        Zr        Nb   Mo   Sn  \\\n",
       "437  0.017262      41.80  ...  0.00  0.0  0.200000  0.200000  0.0  0.0   \n",
       "438  0.017833      40.50  ...  0.00  0.0  0.250000  0.250000  0.0  0.0   \n",
       "439  0.047403      68.06  ...  0.18  0.0  0.000000  0.000000  0.0  0.0   \n",
       "440  0.129356      60.60  ...  0.00  0.0  0.000000  0.000000  0.0  0.0   \n",
       "441  0.125625      40.00  ...  0.00  0.0  0.166667  0.166667  0.0  0.0   \n",
       "\n",
       "           Hf        Ta    W     HV  \n",
       "437  0.000000  0.000000  0.0  304.0  \n",
       "438  0.000000  0.000000  0.0  335.0  \n",
       "439  0.000000  0.000000  0.0  541.0  \n",
       "440  0.000000  0.000000  0.0  816.0  \n",
       "441  0.166667  0.166667  0.0  441.0  \n",
       "\n",
       "[5 rows x 39 columns]"
      ]
     },
     "execution_count": 10,
     "metadata": {},
     "output_type": "execute_result"
    }
   ],
   "source": [
    "dataset.tail()"
   ]
  },
  {
   "cell_type": "code",
   "execution_count": 11,
   "metadata": {
    "colab": {
     "base_uri": "https://localhost:8080/"
    },
    "id": "UXJ_gxF70LYy",
    "outputId": "9e1a4e4a-54cc-442c-d990-f0489648f313",
    "scrolled": true
   },
   "outputs": [
    {
     "name": "stdout",
     "output_type": "stream",
     "text": [
      "<class 'pandas.core.frame.DataFrame'>\n",
      "Int64Index: 436 entries, 0 to 441\n",
      "Data columns (total 39 columns):\n",
      " #   Column                        Non-Null Count  Dtype  \n",
      "---  ------                        --------------  -----  \n",
      " 0   VEC                           436 non-null    float64\n",
      " 1   Electronegativity_Difference  436 non-null    float64\n",
      " 2   Atomic_Radius_Diff            436 non-null    float64\n",
      " 3   Mixing_Enthalpy               436 non-null    float64\n",
      " 4   Mixing_Entropy                436 non-null    float64\n",
      " 5   E/A                           436 non-null    float64\n",
      " 6   EWF                           436 non-null    float64\n",
      " 7   Mod_Mismatch                  436 non-null    float64\n",
      " 8   DeltaG                        436 non-null    float64\n",
      " 9   ShearModG                     436 non-null    float64\n",
      " 10  Tm                            436 non-null    float64\n",
      " 11  Ec                            436 non-null    float64\n",
      " 12  Cond__AC                      436 non-null    int64  \n",
      " 13  Cond__AM                      436 non-null    int64  \n",
      " 14  Cond__HM                      436 non-null    int64  \n",
      " 15  Cond__PM                      436 non-null    int64  \n",
      " 16  Cond__WR                      436 non-null    int64  \n",
      " 17  Li                            436 non-null    float64\n",
      " 18  Mg                            436 non-null    float64\n",
      " 19  Al                            436 non-null    float64\n",
      " 20  Si                            436 non-null    float64\n",
      " 21  Sc                            436 non-null    float64\n",
      " 22  Ti                            436 non-null    float64\n",
      " 23  V                             436 non-null    float64\n",
      " 24  Cr                            436 non-null    float64\n",
      " 25  Mn                            436 non-null    float64\n",
      " 26  Fe                            436 non-null    float64\n",
      " 27  Ni                            436 non-null    float64\n",
      " 28  Co                            436 non-null    float64\n",
      " 29  Cu                            436 non-null    float64\n",
      " 30  Zn                            436 non-null    float64\n",
      " 31  Zr                            436 non-null    float64\n",
      " 32  Nb                            436 non-null    float64\n",
      " 33  Mo                            436 non-null    float64\n",
      " 34  Sn                            436 non-null    float64\n",
      " 35  Hf                            436 non-null    float64\n",
      " 36  Ta                            436 non-null    float64\n",
      " 37  W                             436 non-null    float64\n",
      " 38  HV                            436 non-null    float64\n",
      "dtypes: float64(34), int64(5)\n",
      "memory usage: 136.2 KB\n"
     ]
    }
   ],
   "source": [
    "dataset.info()"
   ]
  },
  {
   "cell_type": "code",
   "execution_count": 12,
   "metadata": {
    "id": "5BRnXICx0LYy"
   },
   "outputs": [],
   "source": [
    "# Split data into X and y\n",
    "y = dataset['HV']\n",
    "X = dataset.drop(['HV'], axis=1)\n",
    "\n",
    "#The two following lines could be used to select only part of the columns: \n",
    "#X = dataset[['VEC','E/A', 'Ec', 'Mixing_Entropy', 'EWF', 'Mod_Mismatch', 'Mixing_Enthalpy', 'Atomic_Radius_Diff', 'Electronegativity_Difference',\n",
    "#           'Cond__PM', 'Cond__AC',  'Cond__AM', 'Cond__HM', 'Cond__WR']]\n",
    "\n",
    "# Split data into train and test set\n",
    "X_train, X_test, y_train, y_test = train_test_split(X, y, \n",
    "                                                    test_size= 0.25, \n",
    "                                                    random_state=42)\n",
    "\n",
    "#Applying standard scaling to get optimized result\n",
    "sc = StandardScaler()\n",
    "X_train = sc.fit_transform(X_train)\n",
    "X_test = sc.transform(X_test)\n",
    "\n",
    "#The following line can be used to save the standarscaler:\n",
    "dump(sc, open('/Scaler/scaler.pkl', 'wb'))"
   ]
  },
  {
   "cell_type": "code",
   "execution_count": 10,
   "metadata": {
    "id": "wHndywQq0LYy"
   },
   "outputs": [],
   "source": [
    "# Function to build the model\n",
    "def build_model(n_hidden=1, n_neurons=30, learning_rate=3e-3, input_shape=[17], reg_l2=0.01, dropout=0.2):\n",
    "    model = keras.Sequential()\n",
    "    options = {\"input_shape\": input_shape}\n",
    "    model.add(keras.Input(shape=(len(X.keys()))))\n",
    "    for layer in range(n_hidden):\n",
    "        model.add(layers.Dense(n_neurons, kernel_regularizer=regularizers.l2(reg_l2), \n",
    "                 activation='elu'))\n",
    "        model.add(layers.Dropout(dropout))\n",
    "        options = {}\n",
    "    model.add(keras.layers.Dense(1, **options))\n",
    "    optimizer = tf.keras.optimizers.Adam(learning_rate)\n",
    "    model.compile(loss='mse',\n",
    "                optimizer=optimizer,\n",
    "                metrics=['mae', 'mse'])\n",
    "    return model"
   ]
  },
  {
   "cell_type": "markdown",
   "metadata": {},
   "source": [
    "# Inicial training"
   ]
  },
  {
   "cell_type": "code",
   "execution_count": 11,
   "metadata": {
    "id": "BhaNizQH0LYy"
   },
   "outputs": [],
   "source": [
    "model = build_model(n_hidden=3, n_neurons=110, learning_rate=0.0005, reg_l2=0.0001, dropout=0.2)"
   ]
  },
  {
   "cell_type": "code",
   "execution_count": 12,
   "metadata": {
    "colab": {
     "base_uri": "https://localhost:8080/"
    },
    "id": "T43QsAJE0LYy",
    "outputId": "311f25ba-a5c4-4f43-afb2-8242b63843c3"
   },
   "outputs": [
    {
     "name": "stdout",
     "output_type": "stream",
     "text": [
      "Model: \"sequential\"\n",
      "_________________________________________________________________\n",
      "Layer (type)                 Output Shape              Param #   \n",
      "=================================================================\n",
      "dense (Dense)                (None, 110)               4290      \n",
      "_________________________________________________________________\n",
      "dropout (Dropout)            (None, 110)               0         \n",
      "_________________________________________________________________\n",
      "dense_1 (Dense)              (None, 110)               12210     \n",
      "_________________________________________________________________\n",
      "dropout_1 (Dropout)          (None, 110)               0         \n",
      "_________________________________________________________________\n",
      "dense_2 (Dense)              (None, 110)               12210     \n",
      "_________________________________________________________________\n",
      "dropout_2 (Dropout)          (None, 110)               0         \n",
      "_________________________________________________________________\n",
      "dense_3 (Dense)              (None, 1)                 111       \n",
      "=================================================================\n",
      "Total params: 28,821\n",
      "Trainable params: 28,821\n",
      "Non-trainable params: 0\n",
      "_________________________________________________________________\n"
     ]
    }
   ],
   "source": [
    "model.summary()"
   ]
  },
  {
   "cell_type": "code",
   "execution_count": 13,
   "metadata": {
    "colab": {
     "base_uri": "https://localhost:8080/"
    },
    "id": "9OZJu3My0LYy",
    "outputId": "b0f2812d-b1a0-4065-84ec-ab51984c8704",
    "scrolled": true
   },
   "outputs": [
    {
     "name": "stdout",
     "output_type": "stream",
     "text": [
      "\n",
      "Epoch: 0, loss:236612.5156,  mae:447.7405,  mse:236612.4531,  val_loss:227217.4062,  val_mae:445.4913,  val_mse:227217.3906,  \n",
      "....................................................................................................\n",
      "Epoch: 100, loss:7181.2832,  mae:64.6682,  mse:7181.2188,  val_loss:5341.2490,  val_mae:60.2029,  val_mse:5341.1855,  \n",
      "....................................................................................................\n",
      "Epoch: 200, loss:4927.8384,  mae:54.0765,  mse:4927.7544,  val_loss:4588.9028,  val_mae:53.7271,  val_mse:4588.8203,  \n",
      "....................................................................................................\n",
      "Epoch: 300, loss:4665.1021,  mae:48.8166,  mse:4665.0015,  val_loss:4343.2056,  val_mae:50.3935,  val_mse:4343.1040,  \n",
      "....................................................................................................\n",
      "Epoch: 400, loss:3418.0237,  mae:43.3979,  mse:3417.9092,  val_loss:3966.5103,  val_mae:48.0760,  val_mse:3966.3962,  \n",
      "....................................................................................................\n",
      "Epoch: 500, loss:3259.0227,  mae:43.0375,  mse:3258.8965,  val_loss:3517.4971,  val_mae:44.4747,  val_mse:3517.3716,  \n",
      "....................................................................................................\n",
      "Epoch: 600, loss:3061.8943,  mae:42.1072,  mse:3061.7595,  val_loss:3567.5095,  val_mae:45.9478,  val_mse:3567.3748,  \n",
      "....................................................................................................\n",
      "Epoch: 700, loss:2666.6492,  mae:38.7956,  mse:2666.5105,  val_loss:3767.6445,  val_mae:44.4118,  val_mse:3767.5056,  \n",
      "....................................................................................................\n",
      "Epoch: 800, loss:2814.6609,  mae:38.2005,  mse:2814.5195,  val_loss:3834.3367,  val_mae:45.6440,  val_mse:3834.1943,  \n",
      "....................................................................................................\n",
      "Epoch: 900, loss:2277.3892,  mae:35.5977,  mse:2277.2412,  val_loss:3882.8005,  val_mae:45.8695,  val_mse:3882.6523,  \n",
      "....................................................................................................\n",
      "Epoch: 1000, loss:2454.9646,  mae:37.6984,  mse:2454.8127,  val_loss:3527.2219,  val_mae:43.8675,  val_mse:3527.0706,  \n",
      "....................................................................................................\n",
      "Epoch: 1100, loss:2612.3337,  mae:37.8143,  mse:2612.1809,  val_loss:4259.6177,  val_mae:47.0047,  val_mse:4259.4644,  \n",
      "....................................................................................................\n",
      "Epoch: 1200, loss:2847.4270,  mae:39.4974,  mse:2847.2666,  val_loss:3705.7683,  val_mae:45.0987,  val_mse:3705.6082,  \n",
      "....................................................................................................\n",
      "Epoch: 1300, loss:2347.4019,  mae:36.4371,  mse:2347.2380,  val_loss:3584.9607,  val_mae:43.5071,  val_mse:3584.7966,  \n",
      "....................................................................................................\n",
      "Epoch: 1400, loss:2280.4863,  mae:35.1421,  mse:2280.3186,  val_loss:3550.8503,  val_mae:44.8593,  val_mse:3550.6831,  \n",
      "....................................................................................................\n",
      "Epoch: 1500, loss:2065.6438,  mae:33.6443,  mse:2065.4712,  val_loss:4007.0171,  val_mae:45.6896,  val_mse:4006.8433,  \n",
      "....................................................................................................\n",
      "Epoch: 1600, loss:2579.1892,  mae:36.0011,  mse:2579.0129,  val_loss:3649.7227,  val_mae:45.1640,  val_mse:3649.5457,  \n",
      "....................................................................................................\n",
      "Epoch: 1700, loss:2136.5500,  mae:36.2826,  mse:2136.3674,  val_loss:3417.7556,  val_mae:43.5721,  val_mse:3417.5725,  \n",
      "....................................................................................................\n",
      "Epoch: 1800, loss:1950.9869,  mae:32.4136,  mse:1950.7994,  val_loss:3434.8909,  val_mae:43.6492,  val_mse:3434.7036,  \n",
      "....................................................................................................\n",
      "Epoch: 1900, loss:1994.2654,  mae:33.3403,  mse:1994.0741,  val_loss:3482.7288,  val_mae:43.9323,  val_mse:3482.5381,  \n",
      "....................................................................................................\n",
      "Epoch: 2000, loss:2215.0974,  mae:35.3709,  mse:2214.9026,  val_loss:3632.5591,  val_mae:44.8937,  val_mse:3632.3650,  \n",
      "....................................................................................................\n",
      "Epoch: 2100, loss:2249.7673,  mae:34.2384,  mse:2249.5681,  val_loss:3576.7571,  val_mae:45.1984,  val_mse:3576.5579,  \n",
      "....................................................................................................\n",
      "Epoch: 2200, loss:1828.4058,  mae:30.8847,  mse:1828.2032,  val_loss:3676.9453,  val_mae:45.7114,  val_mse:3676.7422,  \n",
      "....................................................................................................\n",
      "Epoch: 2300, loss:2073.8462,  mae:33.2532,  mse:2073.6392,  val_loss:3636.9055,  val_mae:44.7739,  val_mse:3636.6990,  \n",
      "....................................................................................................\n",
      "Epoch: 2400, loss:1848.1191,  mae:32.4068,  mse:1847.9087,  val_loss:3433.8618,  val_mae:43.3641,  val_mse:3433.6511,  \n",
      "....................................................................................................\n",
      "Epoch: 2500, loss:2065.0154,  mae:34.0764,  mse:2064.8010,  val_loss:3592.5024,  val_mae:44.4104,  val_mse:3592.2883,  \n",
      "....................................................................................................\n",
      "Epoch: 2600, loss:1674.4948,  mae:31.3922,  mse:1674.2771,  val_loss:3734.4233,  val_mae:46.1625,  val_mse:3734.2058,  \n",
      "....................................................................................................\n",
      "Epoch: 2700, loss:1711.3989,  mae:31.0911,  mse:1711.1797,  val_loss:3868.0920,  val_mae:45.9914,  val_mse:3867.8726,  \n",
      "....................................................................................................\n",
      "Epoch: 2800, loss:1771.8026,  mae:31.5397,  mse:1771.5801,  val_loss:3664.6792,  val_mae:45.3861,  val_mse:3664.4563,  \n",
      "....................................................................................................\n",
      "Epoch: 2900, loss:1746.4336,  mae:31.4019,  mse:1746.2086,  val_loss:3567.5786,  val_mae:43.4149,  val_mse:3567.3533,  \n",
      "....................................................................................................\n",
      "Epoch: 3000, loss:1626.5760,  mae:29.4465,  mse:1626.3491,  val_loss:3749.3787,  val_mae:45.1560,  val_mse:3749.1521,  \n",
      "....................................................................................................\n",
      "Epoch: 3100, loss:1723.9185,  mae:30.1526,  mse:1723.6874,  val_loss:3724.4121,  val_mae:43.5833,  val_mse:3724.1809,  \n",
      "....................................................................................................\n",
      "Epoch: 3200, loss:1897.6453,  mae:32.6506,  mse:1897.4125,  val_loss:3691.8149,  val_mae:43.3302,  val_mse:3691.5820,  \n",
      "....................................................................................................\n",
      "Epoch: 3300, loss:1461.1938,  mae:28.6485,  mse:1460.9578,  val_loss:3694.0046,  val_mae:45.0291,  val_mse:3693.7686,  \n",
      "....................................................................................................\n",
      "Epoch: 3400, loss:1908.8258,  mae:32.3185,  mse:1908.5874,  val_loss:4057.5891,  val_mae:46.4640,  val_mse:4057.3503,  \n",
      "....................................................................................................\n",
      "Epoch: 3500, loss:1609.6442,  mae:27.8797,  mse:1609.4038,  val_loss:3444.8689,  val_mae:42.4626,  val_mse:3444.6282,  \n",
      "....................................................................................................\n",
      "Epoch: 3600, loss:1748.4187,  mae:30.9720,  mse:1748.1764,  val_loss:3569.7632,  val_mae:44.0688,  val_mse:3569.5210,  \n",
      "....................................................................................................\n",
      "Epoch: 3700, loss:1639.5454,  mae:29.4841,  mse:1639.3008,  val_loss:3811.6421,  val_mae:44.7224,  val_mse:3811.3975,  \n"
     ]
    },
    {
     "name": "stdout",
     "output_type": "stream",
     "text": [
      "....................................................................................................\n",
      "Epoch: 3800, loss:1784.9395,  mae:31.2820,  mse:1784.6923,  val_loss:3950.0400,  val_mae:45.9885,  val_mse:3949.7920,  \n",
      "....................................................................................................\n",
      "Epoch: 3900, loss:1639.5510,  mae:30.1176,  mse:1639.2996,  val_loss:3906.7234,  val_mae:44.5509,  val_mse:3906.4717,  \n",
      "....................................................................................................\n",
      "Epoch: 4000, loss:1688.8979,  mae:30.5447,  mse:1688.6436,  val_loss:3890.3198,  val_mae:45.7782,  val_mse:3890.0652,  \n",
      "....................................................................................................\n",
      "Epoch: 4100, loss:1881.2783,  mae:31.3758,  mse:1881.0208,  val_loss:3879.5991,  val_mae:44.9427,  val_mse:3879.3411,  \n",
      "....................................................................................................\n",
      "Epoch: 4200, loss:1806.3055,  mae:30.9105,  mse:1806.0435,  val_loss:3774.1692,  val_mae:44.3394,  val_mse:3773.9075,  \n",
      "....................................................................................................\n",
      "Epoch: 4300, loss:2021.2816,  mae:32.0419,  mse:2021.0170,  val_loss:3544.8879,  val_mae:42.9406,  val_mse:3544.6228,  \n",
      "....................................................................................................\n",
      "Epoch: 4400, loss:1582.2289,  mae:30.2616,  mse:1581.9602,  val_loss:3713.3882,  val_mae:44.2621,  val_mse:3713.1194,  \n",
      "....................................................................................................\n",
      "Epoch: 4500, loss:1550.3508,  mae:30.0779,  mse:1550.0801,  val_loss:3687.1570,  val_mae:43.2380,  val_mse:3686.8867,  \n",
      "....................................................................................................\n",
      "Epoch: 4600, loss:1561.2567,  mae:29.2679,  mse:1560.9827,  val_loss:3931.7263,  val_mae:45.7353,  val_mse:3931.4524,  \n",
      "....................................................................................................\n",
      "Epoch: 4700, loss:1788.3185,  mae:30.5973,  mse:1788.0413,  val_loss:3987.3936,  val_mae:45.3340,  val_mse:3987.1165,  \n",
      "....................................................................................................\n",
      "Epoch: 4800, loss:1956.8331,  mae:31.9226,  mse:1956.5531,  val_loss:3627.1650,  val_mae:43.8196,  val_mse:3626.8848,  \n",
      "....................................................................................................\n",
      "Epoch: 4900, loss:3037.4766,  mae:31.4735,  mse:3037.1929,  val_loss:3767.3335,  val_mae:43.6592,  val_mse:3767.0491,  \n",
      "...................................................................................................."
     ]
    }
   ],
   "source": [
    "EPOCHS = 5000\n",
    "\n",
    "history = model.fit(\n",
    "  X_train, y_train,\n",
    "  epochs=EPOCHS, validation_split = 0.2, verbose=0,\n",
    "  callbacks=[tfdocs.modeling.EpochDots()], batch_size=5)"
   ]
  },
  {
   "cell_type": "code",
   "execution_count": 14,
   "metadata": {
    "colab": {
     "base_uri": "https://localhost:8080/",
     "height": 195
    },
    "id": "uv60ikYS0LYy",
    "outputId": "6cb44a2f-e48c-4bf4-953e-7535cf530615"
   },
   "outputs": [
    {
     "data": {
      "text/html": [
       "<div>\n",
       "<style scoped>\n",
       "    .dataframe tbody tr th:only-of-type {\n",
       "        vertical-align: middle;\n",
       "    }\n",
       "\n",
       "    .dataframe tbody tr th {\n",
       "        vertical-align: top;\n",
       "    }\n",
       "\n",
       "    .dataframe thead th {\n",
       "        text-align: right;\n",
       "    }\n",
       "</style>\n",
       "<table border=\"1\" class=\"dataframe\">\n",
       "  <thead>\n",
       "    <tr style=\"text-align: right;\">\n",
       "      <th></th>\n",
       "      <th>loss</th>\n",
       "      <th>mae</th>\n",
       "      <th>mse</th>\n",
       "      <th>val_loss</th>\n",
       "      <th>val_mae</th>\n",
       "      <th>val_mse</th>\n",
       "      <th>epoch</th>\n",
       "    </tr>\n",
       "  </thead>\n",
       "  <tbody>\n",
       "    <tr>\n",
       "      <th>4995</th>\n",
       "      <td>1693.116943</td>\n",
       "      <td>30.062962</td>\n",
       "      <td>1692.830200</td>\n",
       "      <td>3827.323975</td>\n",
       "      <td>44.766254</td>\n",
       "      <td>3827.037598</td>\n",
       "      <td>4995</td>\n",
       "    </tr>\n",
       "    <tr>\n",
       "      <th>4996</th>\n",
       "      <td>2049.917480</td>\n",
       "      <td>30.927647</td>\n",
       "      <td>2049.630615</td>\n",
       "      <td>3896.834229</td>\n",
       "      <td>44.949886</td>\n",
       "      <td>3896.548828</td>\n",
       "      <td>4996</td>\n",
       "    </tr>\n",
       "    <tr>\n",
       "      <th>4997</th>\n",
       "      <td>1363.791260</td>\n",
       "      <td>27.051308</td>\n",
       "      <td>1363.504883</td>\n",
       "      <td>4008.928955</td>\n",
       "      <td>45.330124</td>\n",
       "      <td>4008.642090</td>\n",
       "      <td>4997</td>\n",
       "    </tr>\n",
       "    <tr>\n",
       "      <th>4998</th>\n",
       "      <td>1819.264160</td>\n",
       "      <td>32.287720</td>\n",
       "      <td>1818.977173</td>\n",
       "      <td>4017.094727</td>\n",
       "      <td>45.009979</td>\n",
       "      <td>4016.808350</td>\n",
       "      <td>4998</td>\n",
       "    </tr>\n",
       "    <tr>\n",
       "      <th>4999</th>\n",
       "      <td>1720.588379</td>\n",
       "      <td>31.068398</td>\n",
       "      <td>1720.301514</td>\n",
       "      <td>3938.835205</td>\n",
       "      <td>45.709732</td>\n",
       "      <td>3938.548828</td>\n",
       "      <td>4999</td>\n",
       "    </tr>\n",
       "  </tbody>\n",
       "</table>\n",
       "</div>"
      ],
      "text/plain": [
       "             loss        mae          mse     val_loss    val_mae  \\\n",
       "4995  1693.116943  30.062962  1692.830200  3827.323975  44.766254   \n",
       "4996  2049.917480  30.927647  2049.630615  3896.834229  44.949886   \n",
       "4997  1363.791260  27.051308  1363.504883  4008.928955  45.330124   \n",
       "4998  1819.264160  32.287720  1818.977173  4017.094727  45.009979   \n",
       "4999  1720.588379  31.068398  1720.301514  3938.835205  45.709732   \n",
       "\n",
       "          val_mse  epoch  \n",
       "4995  3827.037598   4995  \n",
       "4996  3896.548828   4996  \n",
       "4997  4008.642090   4997  \n",
       "4998  4016.808350   4998  \n",
       "4999  3938.548828   4999  "
      ]
     },
     "execution_count": 14,
     "metadata": {},
     "output_type": "execute_result"
    }
   ],
   "source": [
    "hist = pd.DataFrame(history.history)\n",
    "hist['epoch'] = history.epoch\n",
    "hist.tail()"
   ]
  },
  {
   "cell_type": "code",
   "execution_count": 15,
   "metadata": {
    "id": "ZptWPGl70LYz"
   },
   "outputs": [],
   "source": [
    "plotter = tfdocs.plots.HistoryPlotter(smoothing_std=3)"
   ]
  },
  {
   "cell_type": "code",
   "execution_count": 16,
   "metadata": {
    "colab": {
     "base_uri": "https://localhost:8080/",
     "height": 300
    },
    "id": "KigB9m2v0LYz",
    "outputId": "383e0bff-0f9d-4e8c-c49f-3a8211a98d73"
   },
   "outputs": [
    {
     "data": {
      "text/plain": [
       "Text(0, 0.5, 'MAE [HV]')"
      ]
     },
     "execution_count": 16,
     "metadata": {},
     "output_type": "execute_result"
    },
    {
     "data": {
      "image/png": "[encoded data removed]",
      "text/plain": [
       "<Figure size 432x288 with 1 Axes>"
      ]
     },
     "metadata": {
      "needs_background": "light"
     },
     "output_type": "display_data"
    }
   ],
   "source": [
    "plotter.plot({'Inicial': history}, metric = \"mae\")\n",
    "plt.ylim([0, 150])\n",
    "plt.ylabel('MAE [HV]')"
   ]
  },
  {
   "cell_type": "code",
   "execution_count": 17,
   "metadata": {
    "colab": {
     "base_uri": "https://localhost:8080/",
     "height": 300
    },
    "id": "dA0tBwa_0LYz",
    "outputId": "b6b89a93-862e-46e4-9a8a-b987b994bb09"
   },
   "outputs": [
    {
     "data": {
      "text/plain": [
       "Text(0, 0.5, 'MSE [HV^2]')"
      ]
     },
     "execution_count": 17,
     "metadata": {},
     "output_type": "execute_result"
    },
    {
     "data": {
      "image/png": "[encoded data removed]",
      "text/plain": [
       "<Figure size 432x288 with 1 Axes>"
      ]
     },
     "metadata": {
      "needs_background": "light"
     },
     "output_type": "display_data"
    }
   ],
   "source": [
    "plotter.plot({'Inicial': history}, metric = \"mse\")\n",
    "plt.ylim([1000, 6000])\n",
    "plt.ylabel('MSE [HV^2]')"
   ]
  },
  {
   "cell_type": "markdown",
   "metadata": {},
   "source": [
    "# Training with early stopping"
   ]
  },
  {
   "cell_type": "code",
   "execution_count": 18,
   "metadata": {
    "colab": {
     "base_uri": "https://localhost:8080/"
    },
    "id": "hpVdUM_g0LYz",
    "outputId": "2ce238d9-3746-413c-9462-15b149485a50",
    "scrolled": true
   },
   "outputs": [
    {
     "name": "stdout",
     "output_type": "stream",
     "text": [
      "\n",
      "Epoch: 0, loss:236996.8125,  mae:447.9100,  mse:236996.7969,  val_loss:227917.8594,  val_mae:445.9268,  val_mse:227917.8125,  \n",
      "....................................................................................................\n",
      "Epoch: 100, loss:7707.7329,  mae:68.3932,  mse:7707.6709,  val_loss:5194.8721,  val_mae:57.5732,  val_mse:5194.8096,  \n",
      "....................................................................................................\n",
      "Epoch: 200, loss:5392.4907,  mae:56.4814,  mse:5392.4092,  val_loss:4094.1624,  val_mae:50.1422,  val_mse:4094.0811,  \n",
      "....................................................................................................\n",
      "Epoch: 300, loss:3933.3796,  mae:48.9292,  mse:3933.2800,  val_loss:3742.2983,  val_mae:47.7146,  val_mse:3742.1987,  \n",
      "....................................................................................................\n",
      "Epoch: 400, loss:3649.7075,  mae:46.5750,  mse:3649.5930,  val_loss:3555.8906,  val_mae:46.3804,  val_mse:3555.7759,  \n",
      "........................................................................................."
     ]
    }
   ],
   "source": [
    "model = build_model(n_hidden=3, n_neurons=110, learning_rate=0.0005, reg_l2=0.0001, dropout=0.2)\n",
    "\n",
    "MAX_EPOCHS = 5000\n",
    "\n",
    "# Early stop callback\n",
    "early_stop = keras.callbacks.EarlyStopping(monitor='val_loss', patience=150)\n",
    "\n",
    "early_history = model.fit(X_train, y_train, \n",
    "                    epochs=MAX_EPOCHS, validation_split = 0.2, verbose=0, \n",
    "                    callbacks=[early_stop, tfdocs.modeling.EpochDots()],\n",
    "                         batch_size = 5)"
   ]
  },
  {
   "cell_type": "code",
   "execution_count": 19,
   "metadata": {
    "colab": {
     "base_uri": "https://localhost:8080/",
     "height": 296
    },
    "id": "mHb19Muj0LYz",
    "outputId": "cf36660b-a5f4-41c2-e9c2-1cd9bc56bc39"
   },
   "outputs": [
    {
     "data": {
      "text/plain": [
       "Text(0, 0.5, 'MAE [HV]')"
      ]
     },
     "execution_count": 19,
     "metadata": {},
     "output_type": "execute_result"
    },
    {
     "data": {
      "image/png": "[encoded data removed]",
      "text/plain": [
       "<Figure size 432x288 with 1 Axes>"
      ]
     },
     "metadata": {
      "needs_background": "light"
     },
     "output_type": "display_data"
    }
   ],
   "source": [
    "plotter.plot({'Early Stopping': early_history}, metric = \"mae\")\n",
    "plt.ylim([20, 170])\n",
    "plt.ylabel('MAE [HV]')"
   ]
  },
  {
   "cell_type": "code",
   "execution_count": 20,
   "metadata": {
    "colab": {
     "base_uri": "https://localhost:8080/",
     "height": 300
    },
    "id": "SZU0-USx55eI",
    "outputId": "da80bf18-8162-4f8d-8f74-2a6bd5df1836"
   },
   "outputs": [
    {
     "data": {
      "text/plain": [
       "Text(0, 0.5, 'MSE [HV]')"
      ]
     },
     "execution_count": 20,
     "metadata": {},
     "output_type": "execute_result"
    },
    {
     "data": {
      "image/png": "[encoded data removed]",
      "text/plain": [
       "<Figure size 432x288 with 1 Axes>"
      ]
     },
     "metadata": {
      "needs_background": "light"
     },
     "output_type": "display_data"
    }
   ],
   "source": [
    "plotter.plot({'Early Stopping': early_history}, metric = \"mse\")\n",
    "plt.ylim([2000, 6000])\n",
    "plt.ylabel('MSE [HV]')"
   ]
  },
  {
   "cell_type": "code",
   "execution_count": 21,
   "metadata": {
    "colab": {
     "base_uri": "https://localhost:8080/"
    },
    "id": "RMec0I6x0LYz",
    "outputId": "8c816c14-af84-41c2-afad-f0ad428d83f6"
   },
   "outputs": [
    {
     "name": "stdout",
     "output_type": "stream",
     "text": [
      "WARNING:tensorflow:Callbacks method `on_test_batch_end` is slow compared to the batch time (batch time: 0.0000s vs `on_test_batch_end` time: 0.0010s). Check your callbacks.\n",
      "4/4 - 0s - loss: 2871.9207 - mae: 39.7689 - mse: 2871.7942\n",
      "Testing set Mean Abs Error: 39.77 HV\n"
     ]
    }
   ],
   "source": [
    "loss, mae, mse = model.evaluate(X_test, y_test, verbose=2)\n",
    "\n",
    "print(\"Testing set Mean Abs Error: {:5.2f} HV\".format(mae))"
   ]
  },
  {
   "cell_type": "code",
   "execution_count": 22,
   "metadata": {
    "colab": {
     "base_uri": "https://localhost:8080/",
     "height": 501
    },
    "id": "dhXDXrCx0LYz",
    "outputId": "5ffb6699-05db-4631-be77-1d7f45e2123a",
    "scrolled": false
   },
   "outputs": [
    {
     "data": {
      "image/png": "[encoded data removed]",
      "text/plain": [
       "<Figure size 576x576 with 1 Axes>"
      ]
     },
     "metadata": {
      "needs_background": "light"
     },
     "output_type": "display_data"
    }
   ],
   "source": [
    "test_predictions = model.predict(X_test).flatten()\n",
    "train_predictions = model.predict(X_train).flatten()\n",
    "\n",
    "plt.figure(figsize=(8,8))\n",
    "plt.scatter(y_train, train_predictions, c= 'red', alpha =0.2, label = 'Train data')\n",
    "plt.scatter(y_test, test_predictions, c='black', alpha = 0.7, label = 'Test data')\n",
    "plt.xlabel('True Values [HV]')\n",
    "plt.ylabel('Predictions [HV]')\n",
    "lims = [0, 1000]\n",
    "plt.xlim(lims)\n",
    "plt.ylim(lims)\n",
    "plt.legend(loc=\"upper left\")\n",
    "_ = plt.plot(lims, lims)"
   ]
  },
  {
   "cell_type": "markdown",
   "metadata": {
    "id": "6A2Rq7fCk-1T"
   },
   "source": [
    "# Saving model"
   ]
  },
  {
   "cell_type": "code",
   "execution_count": 24,
   "metadata": {},
   "outputs": [
    {
     "name": "stdout",
     "output_type": "stream",
     "text": [
      "INFO:tensorflow:Assets written to: /saved_model/my_model\\assets\n"
     ]
    }
   ],
   "source": [
    "model.save('/saved_model/my_model')"
   ]
  },
  {
   "cell_type": "markdown",
   "metadata": {},
   "source": [
    "# Keras tuner "
   ]
  },
  {
   "cell_type": "code",
   "execution_count": 13,
   "metadata": {},
   "outputs": [],
   "source": [
    "import kerastuner as kt"
   ]
  },
  {
   "cell_type": "code",
   "execution_count": 14,
   "metadata": {},
   "outputs": [],
   "source": [
    "from kerastuner import HyperModel\n",
    "class RegressionHyperModel(HyperModel):\n",
    "    def __init__(self, input_shape):\n",
    "        self.input_shape = input_shape\n",
    "    def build(self, hp):\n",
    "        model = keras.Sequential()\n",
    "        model.add(\n",
    "            layers.Dense(\n",
    "                units=hp.Int('units', 64, 256, 16, default=8),\n",
    "                kernel_regularizer=regularizers.l2(hp.Choice('reg_value', [0.0001,0.001,0.01,0.1,0.005,0.05])),\n",
    "                activation=hp.Choice(\n",
    "                    'dense_activation',\n",
    "                    values=['relu', 'tanh', 'sigmoid', 'elu'],\n",
    "                    default='elu'),\n",
    "                input_shape=input_shape\n",
    "            )\n",
    "        )\n",
    "        \n",
    "        model.add(\n",
    "            layers.Dropout(\n",
    "                hp.Float(\n",
    "                    'dropout',\n",
    "                    min_value=0.0,\n",
    "                    max_value=0.4,\n",
    "                    default=0.005,\n",
    "                    step=0.05)\n",
    "            )\n",
    "        )        \n",
    "        \n",
    "        model.add(\n",
    "            layers.Dense(\n",
    "                units=hp.Int('units', 64, 256, 16, default=16),\n",
    "                kernel_regularizer=regularizers.l2(hp.Choice('reg_value', [0.0001,0.001,0.01,0.1,0.005,0.05])),\n",
    "                activation=hp.Choice(\n",
    "                    'dense_activation',\n",
    "                    values=['relu', 'tanh', 'sigmoid', 'elu'],\n",
    "                    default='elu')\n",
    "            )\n",
    "        )\n",
    "        \n",
    "        model.add(\n",
    "            layers.Dropout(\n",
    "                hp.Float(\n",
    "                    'dropout',\n",
    "                    min_value=0.0,\n",
    "                    max_value=0.4,\n",
    "                    default=0.005,\n",
    "                    step=0.05)\n",
    "            )\n",
    "        )\n",
    "        \n",
    "        model.add(\n",
    "            layers.Dense(\n",
    "                units=hp.Int('units', 64, 256, 16, default=16),\n",
    "                kernel_regularizer=regularizers.l2(hp.Choice('reg_value', [0.0001,0.001,0.01,0.1,0.005,0.05])),\n",
    "                activation=hp.Choice(\n",
    "                    'dense_activation',\n",
    "                    values=['relu', 'tanh', 'sigmoid', 'elu'],\n",
    "                    default='elu')\n",
    "            )\n",
    "        )\n",
    "        \n",
    "        model.add(\n",
    "            layers.Dropout(\n",
    "                hp.Float(\n",
    "                    'dropout',\n",
    "                    min_value=0.0,\n",
    "                    max_value=0.4,\n",
    "                    default=0.005,\n",
    "                    step=0.05)\n",
    "            )\n",
    "        )\n",
    "              \n",
    "        model.add(layers.Dense(1))\n",
    "        \n",
    "        hp_learning_rate = hp.Choice('learning_rate', values = [1e-2, 1e-3, 1e-4, 1e-5]) \n",
    "        optimizer = keras.optimizers.Adam(hp_learning_rate)\n",
    "        model.compile(loss='mse',\n",
    "                optimizer=optimizer,\n",
    "                metrics=['mae', 'mse'])\n",
    "        \n",
    "        return model"
   ]
  },
  {
   "cell_type": "code",
   "execution_count": 15,
   "metadata": {},
   "outputs": [],
   "source": [
    "input_shape = (len(X.keys()),)\n",
    "hypermodel = RegressionHyperModel(input_shape)"
   ]
  },
  {
   "cell_type": "code",
   "execution_count": 16,
   "metadata": {},
   "outputs": [],
   "source": [
    "import IPython\n",
    "\n",
    "class ClearTrainingOutput(tf.keras.callbacks.Callback):\n",
    "    def on_train_end(*args, **kwargs):\n",
    "        IPython.display.clear_output(wait = True)\n",
    "        \n",
    "early_stop_tuner = keras.callbacks.EarlyStopping(monitor='val_loss', patience=150)        "
   ]
  },
  {
   "cell_type": "code",
   "execution_count": 17,
   "metadata": {},
   "outputs": [
    {
     "name": "stdout",
     "output_type": "stream",
     "text": [
      "Trial 50 Complete [00h 05m 22s]\n",
      "mse: 6134.58837890625\n",
      "\n",
      "Best mse So Far: 1676.940673828125\n",
      "Total elapsed time: 04h 16m 07s\n",
      "INFO:tensorflow:Oracle triggered exit\n",
      "4/4 [==============================] - 0s 7ms/step - loss: 5493.5513 - mae: 57.7919 - mse: 5490.4453\n"
     ]
    },
    {
     "data": {
      "text/plain": [
       "[5493.55126953125, 57.79193115234375, 5490.4453125]"
      ]
     },
     "execution_count": 17,
     "metadata": {},
     "output_type": "execute_result"
    }
   ],
   "source": [
    "tuner_bo = kt.BayesianOptimization(\n",
    "            hypermodel,\n",
    "            objective='mse',\n",
    "            max_trials=100,\n",
    "            seed=42,\n",
    "            executions_per_trial=2\n",
    "        )\n",
    "tuner_bo.search(X_train, y_train, epochs=2000, validation_split=0.2, \n",
    "                verbose=1, callbacks = [ClearTrainingOutput(), early_stop_tuner],\n",
    "               batch_size=5)\n",
    "\n",
    "best_model = tuner_bo.get_best_models(num_models=1)[0]\n",
    "best_model.evaluate(X_test, y_test)"
   ]
  },
  {
   "cell_type": "code",
   "execution_count": 18,
   "metadata": {},
   "outputs": [
    {
     "name": "stdout",
     "output_type": "stream",
     "text": [
      "Model: \"sequential\"\n",
      "_________________________________________________________________\n",
      "Layer (type)                 Output Shape              Param #   \n",
      "=================================================================\n",
      "dense (Dense)                (None, 112)               4368      \n",
      "_________________________________________________________________\n",
      "dropout (Dropout)            (None, 112)               0         \n",
      "_________________________________________________________________\n",
      "dense_1 (Dense)              (None, 112)               12656     \n",
      "_________________________________________________________________\n",
      "dropout_1 (Dropout)          (None, 112)               0         \n",
      "_________________________________________________________________\n",
      "dense_2 (Dense)              (None, 112)               12656     \n",
      "_________________________________________________________________\n",
      "dropout_2 (Dropout)          (None, 112)               0         \n",
      "_________________________________________________________________\n",
      "dense_3 (Dense)              (None, 1)                 113       \n",
      "=================================================================\n",
      "Total params: 29,793\n",
      "Trainable params: 29,793\n",
      "Non-trainable params: 0\n",
      "_________________________________________________________________\n"
     ]
    }
   ],
   "source": [
    "best_model.summary()"
   ]
  },
  {
   "cell_type": "code",
   "execution_count": 56,
   "metadata": {},
   "outputs": [
    {
     "data": {
      "text/plain": [
       "112"
      ]
     },
     "execution_count": 56,
     "metadata": {},
     "output_type": "execute_result"
    }
   ],
   "source": [
    "# Get the optimal hyperparameters\n",
    "best_hps = tuner_bo.get_best_hyperparameters(num_trials = 1)[0]\n",
    "\n",
    "best_hps.get('units')"
   ]
  },
  {
   "cell_type": "code",
   "execution_count": 27,
   "metadata": {},
   "outputs": [
    {
     "data": {
      "text/plain": [
       "0.02"
      ]
     },
     "execution_count": 27,
     "metadata": {},
     "output_type": "execute_result"
    }
   ],
   "source": [
    "best_hps.get('dropout')"
   ]
  },
  {
   "cell_type": "code",
   "execution_count": 57,
   "metadata": {},
   "outputs": [
    {
     "data": {
      "text/plain": [
       "0.01"
      ]
     },
     "execution_count": 57,
     "metadata": {},
     "output_type": "execute_result"
    }
   ],
   "source": [
    "best_hps.get('learning_rate')"
   ]
  },
  {
   "cell_type": "code",
   "execution_count": 28,
   "metadata": {},
   "outputs": [
    {
     "data": {
      "text/plain": [
       "'relu'"
      ]
     },
     "execution_count": 28,
     "metadata": {},
     "output_type": "execute_result"
    }
   ],
   "source": [
    "best_hps.get('dense_activation')"
   ]
  },
  {
   "cell_type": "code",
   "execution_count": 29,
   "metadata": {},
   "outputs": [
    {
     "data": {
      "text/plain": [
       "0.001"
      ]
     },
     "execution_count": 29,
     "metadata": {},
     "output_type": "execute_result"
    }
   ],
   "source": [
    "best_hps.get('reg_value')"
   ]
  },
  {
   "cell_type": "markdown",
   "metadata": {},
   "source": [
    "# Test Keras tuner model"
   ]
  },
  {
   "cell_type": "code",
   "execution_count": 42,
   "metadata": {},
   "outputs": [],
   "source": [
    "# Function to build the model\n",
    "def build_model_test(n_hidden=1, n_neurons=30, learning_rate=3e-3, input_shape=[17], reg_l2=0.01, dropout=0.2):\n",
    "    model = keras.Sequential()\n",
    "    options = {\"input_shape\": input_shape}\n",
    "    model.add(keras.Input(shape=(len(X.keys()))))\n",
    "    for layer in range(n_hidden):\n",
    "        model.add(layers.Dense(n_neurons, kernel_regularizer=regularizers.l2(reg_l2), \n",
    "                 activation='relu'))\n",
    "        model.add(layers.Dropout(dropout))\n",
    "        options = {}\n",
    "    model.add(keras.layers.Dense(1, **options))\n",
    "    optimizer = tf.keras.optimizers.Adam(learning_rate)\n",
    "    model.compile(loss='mse',\n",
    "                optimizer=optimizer,\n",
    "                metrics=['mae', 'mse'])\n",
    "    return model"
   ]
  },
  {
   "cell_type": "code",
   "execution_count": 50,
   "metadata": {},
   "outputs": [
    {
     "name": "stdout",
     "output_type": "stream",
     "text": [
      "\n",
      "Epoch: 0, loss:68267.5859,  mae:197.4511,  mse:68267.1719,  val_loss:12273.3252,  val_mae:92.0166,  val_mse:12272.8896,  \n",
      "....................................................................................................\n",
      "Epoch: 100, loss:3564.9065,  mae:45.1636,  mse:3563.4573,  val_loss:4858.0068,  val_mae:51.6476,  val_mse:4856.5542,  \n",
      "....................................................................................................\n",
      "Epoch: 200, loss:2920.2883,  mae:40.0073,  mse:2918.1204,  val_loss:5940.0986,  val_mae:58.4403,  val_mse:5937.9194,  \n",
      "....................................................................................................\n",
      "Epoch: 300, loss:2522.4229,  mae:36.8303,  mse:2519.6826,  val_loss:5419.3428,  val_mae:53.5014,  val_mse:5416.6104,  \n",
      "....................................................................................................\n",
      "Epoch: 400, loss:3028.7480,  mae:41.9402,  mse:3025.3965,  val_loss:4433.6479,  val_mae:48.5385,  val_mse:4430.2778,  \n",
      "....................................................................................................\n",
      "Epoch: 500, loss:1881.6481,  mae:29.2844,  mse:1877.7761,  val_loss:4607.2637,  val_mae:47.7080,  val_mse:4603.3887,  \n",
      "....................................................................................................\n",
      "Epoch: 600, loss:6877.2363,  mae:61.0217,  mse:6872.9824,  val_loss:6821.8457,  val_mae:60.8592,  val_mse:6817.5708,  \n",
      "....................................................................................................\n",
      "Epoch: 700, loss:2042.4554,  mae:32.1832,  mse:2037.8922,  val_loss:5942.5220,  val_mae:58.2530,  val_mse:5937.9541,  \n",
      "....................................................................................................\n",
      "Epoch: 800, loss:2059.0813,  mae:31.9961,  mse:2054.1282,  val_loss:3752.5515,  val_mae:43.3626,  val_mse:3747.6008,  \n",
      "....................................................................................................\n",
      "Epoch: 900, loss:2014.2969,  mae:32.4278,  mse:2008.9343,  val_loss:3576.0518,  val_mae:44.0556,  val_mse:3570.6853,  \n",
      "....................................................................................................\n",
      "Epoch: 1000, loss:2256.2820,  mae:32.8184,  mse:2250.3535,  val_loss:6719.0713,  val_mae:63.3059,  val_mse:6713.1587,  \n",
      "....................................................................................................\n",
      "Epoch: 1100, loss:1875.9156,  mae:31.4620,  mse:1869.5414,  val_loss:4816.3760,  val_mae:49.8004,  val_mse:4810.0024,  \n",
      "....................................................................................................\n",
      "Epoch: 1200, loss:1334.9629,  mae:24.9108,  mse:1328.2610,  val_loss:3591.7458,  val_mae:43.3020,  val_mse:3585.0432,  \n",
      "....................................................................................................\n",
      "Epoch: 1300, loss:1396.1594,  mae:25.5217,  mse:1389.1715,  val_loss:4372.9795,  val_mae:45.9810,  val_mse:4365.9927,  \n",
      "....................................................................................................\n",
      "Epoch: 1400, loss:1405.6671,  mae:25.2230,  mse:1398.3840,  val_loss:5161.6943,  val_mae:50.5955,  val_mse:5154.4199,  \n",
      "....................................................................................................\n",
      "Epoch: 1500, loss:1825.5077,  mae:29.6171,  mse:1818.0051,  val_loss:4375.0967,  val_mae:47.3207,  val_mse:4367.5996,  \n",
      "....................................................................................................\n",
      "Epoch: 1600, loss:1561.4656,  mae:26.1477,  mse:1553.7096,  val_loss:4132.4648,  val_mae:46.5872,  val_mse:4124.7085,  \n",
      "....................................................................................................\n",
      "Epoch: 1700, loss:1440.8956,  mae:24.7694,  mse:1432.9286,  val_loss:4444.5835,  val_mae:47.8432,  val_mse:4436.6172,  \n",
      "....................................................................................................\n",
      "Epoch: 1800, loss:1593.5995,  mae:24.5510,  mse:1585.2538,  val_loss:4639.8096,  val_mae:46.9958,  val_mse:4631.4736,  \n",
      "............................................................................................"
     ]
    }
   ],
   "source": [
    "test_model = build_model_test(n_hidden=3, n_neurons=112, learning_rate=0.01, reg_l2=0.001, dropout=0.02)\n",
    "\n",
    "MAX_EPOCHS_test = 5000\n",
    "\n",
    "# Early stop callback\n",
    "early_stop_test = keras.callbacks.EarlyStopping(monitor='val_loss', patience=1000)\n",
    "\n",
    "early_history_test = test_model.fit(X_train, y_train, \n",
    "                    epochs=MAX_EPOCHS_test, validation_split = 0.2, verbose=0, \n",
    "                    callbacks=[early_stop_test, tfdocs.modeling.EpochDots()],\n",
    "                         batch_size = 5)"
   ]
  },
  {
   "cell_type": "code",
   "execution_count": 51,
   "metadata": {},
   "outputs": [
    {
     "data": {
      "text/plain": [
       "Text(0, 0.5, 'MAE [HV]')"
      ]
     },
     "execution_count": 51,
     "metadata": {},
     "output_type": "execute_result"
    },
    {
     "data": {
      "image/png": "[encoded data removed]",
      "text/plain": [
       "<Figure size 432x288 with 1 Axes>"
      ]
     },
     "metadata": {
      "needs_background": "light"
     },
     "output_type": "display_data"
    }
   ],
   "source": [
    "plotter_test = tfdocs.plots.HistoryPlotter(smoothing_std=3)\n",
    "plotter_test.plot({'Early Stopping': early_history_test}, metric = \"mae\")\n",
    "plt.ylim([20, 170])\n",
    "plt.ylabel('MAE [HV]')"
   ]
  },
  {
   "cell_type": "code",
   "execution_count": 52,
   "metadata": {},
   "outputs": [
    {
     "data": {
      "text/plain": [
       "Text(0, 0.5, 'MSE [HV]')"
      ]
     },
     "execution_count": 52,
     "metadata": {},
     "output_type": "execute_result"
    },
    {
     "data": {
      "image/png": "[encoded data removed]",
      "text/plain": [
       "<Figure size 432x288 with 1 Axes>"
      ]
     },
     "metadata": {
      "needs_background": "light"
     },
     "output_type": "display_data"
    }
   ],
   "source": [
    "plotter_test.plot({'Early Stopping': early_history_test}, metric = \"mse\")\n",
    "plt.ylim([2000, 6000])\n",
    "plt.ylabel('MSE [HV]')"
   ]
  },
  {
   "cell_type": "code",
   "execution_count": 53,
   "metadata": {},
   "outputs": [
    {
     "name": "stdout",
     "output_type": "stream",
     "text": [
      "4/4 - 0s - loss: 5172.7720 - mae: 51.7901 - mse: 5164.2866\n",
      "Testing set Mean Abs Error: 51.79 HV\n"
     ]
    }
   ],
   "source": [
    "test_loss, test_mae, test_mse = test_model.evaluate(X_test, y_test, verbose=2)\n",
    "\n",
    "print(\"Testing set Mean Abs Error: {:5.2f} HV\".format(test_mae))"
   ]
  },
  {
   "cell_type": "code",
   "execution_count": 54,
   "metadata": {},
   "outputs": [
    {
     "data": {
      "image/png": "[encoded data removed]",
      "text/plain": [
       "<Figure size 576x576 with 1 Axes>"
      ]
     },
     "metadata": {
      "needs_background": "light"
     },
     "output_type": "display_data"
    }
   ],
   "source": [
    "best_test_predictions_test = best_model.predict(X_test).flatten()\n",
    "best_train_predictions_test = best_model.predict(X_train).flatten()\n",
    "\n",
    "\n",
    "plt.figure(figsize=(8,8))\n",
    "plt.scatter(y_test, best_test_predictions_test, c='blue', alpha = 0.5, label = 'Test data')\n",
    "plt.scatter(y_train, best_train_predictions_test, c= 'red', alpha =0.5, label = 'Train data')\n",
    "plt.xlabel('True Values [HV]')\n",
    "plt.ylabel('Predictions [HV]')\n",
    "lims = [0, 1000]\n",
    "plt.xlim(lims)\n",
    "plt.ylim(lims)\n",
    "plt.legend(loc=\"upper left\")\n",
    "_ = plt.plot(lims, lims)"
   ]
  },
  {
   "cell_type": "code",
   "execution_count": null,
   "metadata": {},
   "outputs": [],
   "source": []
  }
 ],
 "metadata": {
  "colab": {
   "collapsed_sections": [],
   "name": "Cópia de Cópia de Regression using TensorFlow 2 usando uniao.ipynb",
   "provenance": []
  },
  "kernelspec": {
   "display_name": "Python 3",
   "language": "python",
   "name": "python3"
  },
  "language_info": {
   "codemirror_mode": {
    "name": "ipython",
    "version": 3
   },
   "file_extension": ".py",
   "mimetype": "text/x-python",
   "name": "python",
   "nbconvert_exporter": "python",
   "pygments_lexer": "ipython3",
   "version": "3.7.9"
  }
 },
 "nbformat": 4,
 "nbformat_minor": 1
}
